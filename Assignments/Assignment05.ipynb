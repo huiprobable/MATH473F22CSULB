{
 "cells": [
  {
   "cell_type": "markdown",
   "id": "dbbbba4e-d123-42da-b718-38e0350ba5de",
   "metadata": {},
   "source": [
    "# Assignment 05\n",
    "\n",
    "Due Oct 20, 11:59pm. Please submit one .ipynb file to Beachboard. "
   ]
  },
  {
   "cell_type": "markdown",
   "id": "a12c0fe7-f895-4164-a1ac-8def00aa6aa5",
   "metadata": {},
   "source": [
    "In this assignment, please solve the following partial differential equation\n",
    "\n",
    "$$u_{xx}+2u_{yy} = sin((x+y)\\pi) \\quad \\quad (x,y)\\in[0,1]\\times[0,1]$$\n",
    "with boundary conditions \n",
    "$$u(0,y)=u(1,y)=u(x,0)=u(x,1)=0$$"
   ]
  },
  {
   "cell_type": "markdown",
   "id": "a6312c25-e2da-49fe-a4f1-54407ce5e20b",
   "metadata": {},
   "source": [
    "Please use sparse matrix, and use the following three methods to solve the problem:\n",
    "* bicgstab method from scipy.sparse.linalg module\n",
    "* implementation of Jacobi method from our class\n",
    "* implementation of Conjugate Gradient method from our class"
   ]
  },
  {
   "cell_type": "markdown",
   "id": "15909dee-d529-4c88-91c2-17b176703c18",
   "metadata": {},
   "source": [
    "Then plot the following pictures:\n",
    "* Plot the residue verses number of iterations for both Jacobi method and Conjugate Gradient method\n",
    "* Use imshow to plot the solution for all three solvers. "
   ]
  },
  {
   "cell_type": "code",
   "execution_count": null,
   "id": "460f7a4c-e7e9-4c43-a0e9-0fa49eff2a1e",
   "metadata": {},
   "outputs": [],
   "source": []
  }
 ],
 "metadata": {
  "kernelspec": {
   "display_name": "Python 3 (ipykernel)",
   "language": "python",
   "name": "python3"
  },
  "language_info": {
   "codemirror_mode": {
    "name": "ipython",
    "version": 3
   },
   "file_extension": ".py",
   "mimetype": "text/x-python",
   "name": "python",
   "nbconvert_exporter": "python",
   "pygments_lexer": "ipython3",
   "version": "3.9.6"
  }
 },
 "nbformat": 4,
 "nbformat_minor": 5
}
