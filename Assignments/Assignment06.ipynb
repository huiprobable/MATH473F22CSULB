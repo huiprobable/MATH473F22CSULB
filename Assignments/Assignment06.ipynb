{
 "cells": [
  {
   "cell_type": "markdown",
   "id": "4cacdcfa-9ed0-4009-a0a9-6f85aff5f349",
   "metadata": {},
   "source": [
    "# Assignment 6 (Due on Dec 1st, midnight. Enjoy!)"
   ]
  },
  {
   "cell_type": "markdown",
   "id": "82cf2549-6613-4c98-9a01-c65e9777a4f1",
   "metadata": {},
   "source": [
    "This will be the very last homework. "
   ]
  },
  {
   "cell_type": "markdown",
   "id": "8fea8eab-506e-4288-95a7-246bbf511f2f",
   "metadata": {},
   "source": [
    "In this homework, we will use different choices of kernels to perform image filtering through convolution. You may refer to my [Lec11_Convolution.ipynb](https://nbviewer.org/github/huiprobable/MATH473F22CSULB/blob/main/Lectures/Lec11_Convolution.ipynb), or refer to this [website](https://medium.com/@ianormy/convolution-filters-4971820e851f) as a further reading. "
   ]
  },
  {
   "cell_type": "markdown",
   "id": "0b6fa2f5-2036-4069-a3ee-7ceea7e7efc4",
   "metadata": {},
   "source": [
    "Use your favorate picture to test out different kernels for filtering images. Some can sharpen the image; some can show the outline of the objects in the image; some can blur the image; some can create a shadow along the outline in a certain direction, making it like a relief. "
   ]
  },
  {
   "cell_type": "markdown",
   "id": "9a00d8f2-a290-4250-bc0d-5ef52c426bd7",
   "metadata": {},
   "source": [
    "You may also try the [median filter](https://en.wikipedia.org/wiki/Median_filter) to denoise an image with [salt and pepper kind of noise](https://www.geeksforgeeks.org/add-a-salt-and-pepper-noise-to-an-image-with-python/)."
   ]
  },
  {
   "cell_type": "markdown",
   "id": "5c50f1ec-7c4d-488f-baa3-3e5d819d67c4",
   "metadata": {},
   "source": [
    "**This homework is open ended, you can explore as much as you want, or as little as you want. To not create extra burden, I would like to see you try at least one filter on an image that you are interested, and describe what it does and roughly explain why it does that. As long as you do that correctly, you will receive full credit.** "
   ]
  },
  {
   "cell_type": "code",
   "execution_count": null,
   "id": "d45aa0d3-3ce8-43bb-a2ce-86e77413a9b2",
   "metadata": {},
   "outputs": [],
   "source": []
  }
 ],
 "metadata": {
  "kernelspec": {
   "display_name": "Python 3 (ipykernel)",
   "language": "python",
   "name": "python3"
  },
  "language_info": {
   "codemirror_mode": {
    "name": "ipython",
    "version": 3
   },
   "file_extension": ".py",
   "mimetype": "text/x-python",
   "name": "python",
   "nbconvert_exporter": "python",
   "pygments_lexer": "ipython3",
   "version": "3.9.6"
  }
 },
 "nbformat": 4,
 "nbformat_minor": 5
}
