{
 "cells": [
  {
   "cell_type": "markdown",
   "id": "86b28821-6cee-41b0-874d-0c95b71480a6",
   "metadata": {},
   "source": [
    "# Assignment 04\n",
    "\n",
    "Due Oct 4, 11:59pm. Please submit one .ipynb file to Beachboard. "
   ]
  },
  {
   "cell_type": "markdown",
   "id": "c1637516-6784-4aa9-b24c-c54db550181e",
   "metadata": {},
   "source": [
    "## Implemeting LU factorization\n",
    "\n",
    "In this assignment, please implement the LU factorization. For a reference to the algorithm, you may review my lecture notes and video from Thursday, Sep 22. That is, [MATH473S22_lec10.mp4](https://csulb-my.sharepoint.com/:v:/g/personal/paul_sun_csulb_edu/ESCaIcQ5qIVCl50D2dsu74YBrFFCrnScPdU_fv_6K2ErjA?e=mxqOyz) from OneDrive, as well as lecture ntoes [Direct Methods, LU factorization.pdf](https://bbcsulb.desire2learn.com/d2l/le/lessons/882925/topics/10466328) in Beachboard. \n"
   ]
  },
  {
   "cell_type": "markdown",
   "id": "6be35e7c-c61b-44ad-8383-9bdee4f9c3ba",
   "metadata": {},
   "source": [
    "To test and debug your code, you may use the examples that I have used in class on Sep 20 and Sep 22. "
   ]
  },
  {
   "cell_type": "markdown",
   "id": "7c4e241c-b693-4e42-9f95-42893f8bc3e2",
   "metadata": {},
   "source": [
    "If you have time and stay curious, you may attemp an extra effort of understanding the LU factorization with pivoting and implementing it. You may consider how to do that by yourself, or you may refer to page 105--108 of the reading on [Chapter 5. Linear Systems and Direct Methods](https://bbcsulb.desire2learn.com/d2l/le/lessons/882925/topics/10462570), which is posted in Beachboard. A bonus of 3 points will be added to your final course grade if you successfully implement this. "
   ]
  },
  {
   "cell_type": "code",
   "execution_count": null,
   "id": "f073f1b0-b717-4e88-800e-cb2166b33ada",
   "metadata": {},
   "outputs": [],
   "source": []
  }
 ],
 "metadata": {
  "kernelspec": {
   "display_name": "Python 3 (ipykernel)",
   "language": "python",
   "name": "python3"
  },
  "language_info": {
   "codemirror_mode": {
    "name": "ipython",
    "version": 3
   },
   "file_extension": ".py",
   "mimetype": "text/x-python",
   "name": "python",
   "nbconvert_exporter": "python",
   "pygments_lexer": "ipython3",
   "version": "3.7.2"
  }
 },
 "nbformat": 4,
 "nbformat_minor": 5
}
