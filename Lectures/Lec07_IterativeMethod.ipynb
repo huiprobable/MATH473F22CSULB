{
 "cells": [
  {
   "cell_type": "markdown",
   "id": "2f2fc09d-6bec-4a41-b25e-b9bc68b9377e",
   "metadata": {},
   "source": [
    "# Iterative Methods for Solving Linear Systems"
   ]
  },
  {
   "cell_type": "code",
   "execution_count": 1,
   "id": "980227dd-5123-4f7b-ad83-fc8f53609b9e",
   "metadata": {},
   "outputs": [],
   "source": [
    "import numpy as np\n",
    "def ind(i,j,n):\n",
    "    return i+j*(n+1)"
   ]
  },
  {
   "cell_type": "code",
   "execution_count": 3,
   "id": "34427d5b",
   "metadata": {},
   "outputs": [],
   "source": [
    "def formingLinearSystem(n, g):\n",
    "    h = 1/n\n",
    "    A = np.eye((n+1)**2)\n",
    "    b = np.zeros((n+1)**2)\n",
    "    for i in range(1,n):\n",
    "        for j in range(1,n):\n",
    "            A[ind(i,j,n),ind(i,j,n)] = 4\n",
    "            A[ind(i,j,n),ind(i-1,j,n)] = -1\n",
    "            A[ind(i,j,n),ind(i+1,j,n)] = -1\n",
    "            A[ind(i,j,n),ind(i,j-1,n)] = -1\n",
    "            A[ind(i,j,n),ind(i,j+1,n)] = -1\n",
    "            b[ind(i,j,n)] = g(j*h,i*h)*h*h\n",
    "    return A, b"
   ]
  },
  {
   "cell_type": "code",
   "execution_count": 20,
   "id": "78e275ef",
   "metadata": {},
   "outputs": [],
   "source": [
    "g = lambda x,y: x*(1-x)+y*(2-y)\n",
    "n = 50\n",
    "A, b = formingLinearSystem(n, g)"
   ]
  },
  {
   "cell_type": "markdown",
   "id": "e314135d",
   "metadata": {},
   "source": [
    "### Exercise on lambda function\n",
    "Can you write a lambda function f(x) = x*x-2*x?"
   ]
  },
  {
   "cell_type": "code",
   "execution_count": null,
   "id": "bdbbe737",
   "metadata": {},
   "outputs": [],
   "source": []
  },
  {
   "cell_type": "markdown",
   "id": "8f4398df",
   "metadata": {},
   "source": [
    "### How do we solve the system?\n",
    "\n",
    "* Direct method such as LU\n",
    "linalg.solve is a build-in function that solves Ax=b using LU factorization\n",
    "\n",
    "* Iterative method, such as Jacobi, Gauss-seidel. \n",
    "This will be introduced next time.\n",
    "    "
   ]
  },
  {
   "cell_type": "code",
   "execution_count": 5,
   "id": "a4c2ba17",
   "metadata": {},
   "outputs": [],
   "source": [
    "from numpy import linalg\n",
    "u = linalg.solve(A,b)"
   ]
  },
  {
   "cell_type": "code",
   "execution_count": 6,
   "id": "a8213c13",
   "metadata": {},
   "outputs": [
    {
     "data": {
      "text/plain": [
       "<matplotlib.image.AxesImage at 0x26dea76b6d0>"
      ]
     },
     "execution_count": 6,
     "metadata": {},
     "output_type": "execute_result"
    },
    {
     "data": {
      "image/png": "[encoded data removed]",
      "text/plain": [
       "<Figure size 432x288 with 1 Axes>"
      ]
     },
     "metadata": {
      "needs_background": "light"
     },
     "output_type": "display_data"
    }
   ],
   "source": [
    "import matplotlib.pyplot as plt\n",
    "plt.imshow(u.reshape(n+1,n+1))"
   ]
  },
  {
   "cell_type": "code",
   "execution_count": 7,
   "id": "4b0d84c6",
   "metadata": {},
   "outputs": [
    {
     "data": {
      "text/plain": [
       "True"
      ]
     },
     "execution_count": 7,
     "metadata": {},
     "output_type": "execute_result"
    }
   ],
   "source": [
    "np.allclose(A@u,b) # solved correctly! "
   ]
  },
  {
   "cell_type": "code",
   "execution_count": 25,
   "id": "fe537f45",
   "metadata": {},
   "outputs": [],
   "source": [
    "# most straightforward implementation\n",
    "def Jacobi1(A, b, num_iter):\n",
    "    x = np.zeros_like(b)\n",
    "    x_new = np.zeros_like(b)\n",
    "    rows, cols = A.shape\n",
    "    for k in range(num_iter):\n",
    "        for i in range(rows):\n",
    "            r = b[i]\n",
    "            for j in range(cols):\n",
    "                if j != i:\n",
    "                    r -= A[i,j]*x[j]\n",
    "            x_new[i] = r/A[i,i]\n",
    "        np.copyto(x,x_new)\n",
    "    return x\n"
   ]
  },
  {
   "cell_type": "code",
   "execution_count": 29,
   "id": "5379436e",
   "metadata": {},
   "outputs": [],
   "source": [
    "def Jacobi2(A, b, num_iter):\n",
    "    x = np.zeros_like(b)\n",
    "    x_new = np.zeros_like(b)\n",
    "    rows, cols = A.shape\n",
    "    for k in range(num_iter):\n",
    "        for i in range(rows):\n",
    "            x_new[i] = (b[i] - A[i,:]@x)/A[i,i]+x[i]\n",
    "        np.copyto(x,x_new)\n",
    "    return x"
   ]
  },
  {
   "cell_type": "code",
   "execution_count": 32,
   "id": "6fb229e1",
   "metadata": {},
   "outputs": [],
   "source": [
    "def Jacobi3(A, b, num_iter):\n",
    "    x = np.zeros_like(b)\n",
    "    x_new = np.zeros_like(b)\n",
    "    rows, cols = A.shape\n",
    "    for k in range(num_iter):\n",
    "        x_new = (b - A@x)/A.diagonal()+x\n",
    "        np.copyto(x,x_new)\n",
    "    return x"
   ]
  },
  {
   "cell_type": "code",
   "execution_count": 33,
   "id": "5859cb03",
   "metadata": {},
   "outputs": [
    {
     "data": {
      "text/plain": [
       "0.4119129180908203"
      ]
     },
     "execution_count": 33,
     "metadata": {},
     "output_type": "execute_result"
    }
   ],
   "source": [
    "import time\n",
    "A, b = formingLinearSystem(n, g)\n",
    "t1 = time.time()\n",
    "x = Jacobi3(A, b, 100)\n",
    "t2 = time.time()\n",
    "t2-t1"
   ]
  },
  {
   "cell_type": "markdown",
   "id": "08c67cf3",
   "metadata": {},
   "source": [
    "## Now we are switching to sparse matrices for more speed up\n",
    "\n",
    "Sparse matrices are implemented in scipy under different formats. \n",
    "Two useful formats are:\n",
    "* CSR -- Compressed Sparse Row format, good for Matrix Vector multiplication\n",
    "* DOK -- Dictory of Keys format, good for forming the sparse matrix entry by entry. "
   ]
  },
  {
   "cell_type": "code",
   "execution_count": 38,
   "id": "b32dafb7",
   "metadata": {},
   "outputs": [],
   "source": [
    "import numpy as np\n",
    "from scipy.sparse import dok_matrix\n",
    "S = dok_matrix((5, 5), dtype=np.float32)\n",
    "for i in range(5):\n",
    "    for j in range(5):\n",
    "        S[i, j] = i + j"
   ]
  },
  {
   "cell_type": "code",
   "execution_count": 39,
   "id": "88b2954b",
   "metadata": {},
   "outputs": [],
   "source": [
    "def formingSparseLinearSystem(n, g):\n",
    "    h = 1/n\n",
    "    A = dok_matrix(((n+1)**2,(n+1)**2), dtype = np.float64)\n",
    "    b = np.zeros((n+1)**2)\n",
    "    for i in range(n+1):\n",
    "        for j in range(n+1):\n",
    "            if 0<i<n and 0<j<n:\n",
    "                A[ind(i,j,n),ind(i,j,n)] = 4\n",
    "                A[ind(i,j,n),ind(i-1,j,n)] = -1\n",
    "                A[ind(i,j,n),ind(i+1,j,n)] = -1\n",
    "                A[ind(i,j,n),ind(i,j-1,n)] = -1\n",
    "                A[ind(i,j,n),ind(i,j+1,n)] = -1\n",
    "                b[ind(i,j,n)] = g(j*h,i*h)*h*h\n",
    "            else:\n",
    "                A[ind(i,j,n),ind(i,j,n)] = 1\n",
    "                b[ind(i,j,n)] = 0\n",
    "    A.tocsr()\n",
    "    return A, b\n"
   ]
  },
  {
   "cell_type": "code",
   "execution_count": 40,
   "id": "48aca773",
   "metadata": {},
   "outputs": [
    {
     "data": {
      "text/plain": [
       "0.6483569145202637"
      ]
     },
     "execution_count": 40,
     "metadata": {},
     "output_type": "execute_result"
    }
   ],
   "source": [
    "As, bs = formingSparseLinearSystem(n, g)\n",
    "import time\n",
    "A, b = formingLinearSystem(n, g)\n",
    "t1 = time.time()\n",
    "x = Jacobi3(As, bs, 100)\n",
    "t2 = time.time()\n",
    "t2-t1"
   ]
  },
  {
   "cell_type": "code",
   "execution_count": null,
   "id": "402e4e70",
   "metadata": {},
   "outputs": [],
   "source": []
  }
 ],
 "metadata": {
  "kernelspec": {
   "display_name": "Python 3 (ipykernel)",
   "language": "python",
   "name": "python3"
  },
  "language_info": {
   "codemirror_mode": {
    "name": "ipython",
    "version": 3
   },
   "file_extension": ".py",
   "mimetype": "text/x-python",
   "name": "python",
   "nbconvert_exporter": "python",
   "pygments_lexer": "ipython3",
   "version": "3.9.12"
  }
 },
 "nbformat": 4,
 "nbformat_minor": 5
}
