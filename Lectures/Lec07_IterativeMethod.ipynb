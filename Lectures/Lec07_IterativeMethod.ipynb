{
 "cells": [
  {
   "cell_type": "markdown",
   "id": "2f2fc09d-6bec-4a41-b25e-b9bc68b9377e",
   "metadata": {},
   "source": [
    "# Iterative Methods for Solving Linear Systems"
   ]
  },
  {
   "cell_type": "code",
   "execution_count": null,
   "id": "980227dd-5123-4f7b-ad83-fc8f53609b9e",
   "metadata": {},
   "outputs": [],
   "source": []
  }
 ],
 "metadata": {
  "kernelspec": {
   "display_name": "Python 3 (ipykernel)",
   "language": "python",
   "name": "python3"
  },
  "language_info": {
   "codemirror_mode": {
    "name": "ipython",
    "version": 3
   },
   "file_extension": ".py",
   "mimetype": "text/x-python",
   "name": "python",
   "nbconvert_exporter": "python",
   "pygments_lexer": "ipython3",
   "version": "3.7.2"
  }
 },
 "nbformat": 4,
 "nbformat_minor": 5
}
