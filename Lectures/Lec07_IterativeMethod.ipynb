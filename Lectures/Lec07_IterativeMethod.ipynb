{
 "cells": [
  {
   "cell_type": "markdown",
   "id": "2f2fc09d-6bec-4a41-b25e-b9bc68b9377e",
   "metadata": {},
   "source": [
    "# Iterative Methods for Solving Linear Systems"
   ]
  },
  {
   "cell_type": "code",
   "execution_count": 1,
   "id": "980227dd-5123-4f7b-ad83-fc8f53609b9e",
   "metadata": {},
   "outputs": [],
   "source": [
    "import numpy as np\n",
    "def ind(i,j,n):\n",
    "    return i+j*(n+1)"
   ]
  },
  {
   "cell_type": "code",
   "execution_count": 2,
   "id": "34427d5b",
   "metadata": {},
   "outputs": [],
   "source": [
    "def formingLinearSystem(n, g):\n",
    "    h = 1/n\n",
    "    A = np.eye((n+1)**2)\n",
    "    b = np.zeros((n+1)**2)\n",
    "    for i in range(1,n):\n",
    "        for j in range(1,n):\n",
    "            A[ind(i,j,n),ind(i,j,n)] = 4\n",
    "            A[ind(i,j,n),ind(i-1,j,n)] = -1\n",
    "            A[ind(i,j,n),ind(i+1,j,n)] = -1\n",
    "            A[ind(i,j,n),ind(i,j-1,n)] = -1\n",
    "            A[ind(i,j,n),ind(i,j+1,n)] = -1\n",
    "            b[ind(i,j,n)] = g(j*h,i*h)*h*h\n",
    "    return A, b"
   ]
  },
  {
   "cell_type": "code",
   "execution_count": 3,
   "id": "78e275ef",
   "metadata": {},
   "outputs": [],
   "source": [
    "g = lambda x,y: x*(1-x)+y*(2-y)\n",
    "n = 50\n",
    "A, b = formingLinearSystem(n, g)"
   ]
  },
  {
   "cell_type": "markdown",
   "id": "e314135d",
   "metadata": {},
   "source": [
    "### Exercise on lambda function\n",
    "Can you write a lambda function f(x) = x*x-2*x?"
   ]
  },
  {
   "cell_type": "code",
   "execution_count": null,
   "id": "bdbbe737",
   "metadata": {},
   "outputs": [],
   "source": []
  },
  {
   "cell_type": "markdown",
   "id": "8f4398df",
   "metadata": {},
   "source": [
    "### How do we solve the system?\n",
    "\n",
    "* Direct method such as LU\n",
    "linalg.solve is a build-in function that solves Ax=b using LU factorization\n",
    "\n",
    "* Iterative method, such as Jacobi, Gauss-seidel. \n",
    "This will be introduced next time.\n",
    "    "
   ]
  },
  {
   "cell_type": "code",
   "execution_count": 4,
   "id": "a4c2ba17",
   "metadata": {},
   "outputs": [],
   "source": [
    "from numpy import linalg\n",
    "u = linalg.solve(A,b)"
   ]
  },
  {
   "cell_type": "code",
   "execution_count": 5,
   "id": "a8213c13",
   "metadata": {},
   "outputs": [
    {
     "data": {
      "text/plain": [
       "<matplotlib.image.AxesImage at 0x20f135fb6d0>"
      ]
     },
     "execution_count": 5,
     "metadata": {},
     "output_type": "execute_result"
    },
    {
     "data": {
      "image/png": "[encoded data removed]",
      "text/plain": [
       "<Figure size 432x288 with 1 Axes>"
      ]
     },
     "metadata": {
      "needs_background": "light"
     },
     "output_type": "display_data"
    }
   ],
   "source": [
    "import matplotlib.pyplot as plt\n",
    "plt.imshow(u.reshape(n+1,n+1))"
   ]
  },
  {
   "cell_type": "code",
   "execution_count": 6,
   "id": "4b0d84c6",
   "metadata": {},
   "outputs": [
    {
     "data": {
      "text/plain": [
       "True"
      ]
     },
     "execution_count": 6,
     "metadata": {},
     "output_type": "execute_result"
    }
   ],
   "source": [
    "np.allclose(A@u,b) # solved correctly! "
   ]
  },
  {
   "cell_type": "code",
   "execution_count": 7,
   "id": "fe537f45",
   "metadata": {},
   "outputs": [],
   "source": [
    "# most straightforward implementation\n",
    "def Jacobi1(A, b, num_iter):\n",
    "    x = np.zeros_like(b)\n",
    "    x_new = np.zeros_like(b)\n",
    "    rows, cols = A.shape\n",
    "    for k in range(num_iter):\n",
    "        for i in range(rows):\n",
    "            r = b[i]\n",
    "            for j in range(cols):\n",
    "                if j != i:\n",
    "                    r -= A[i,j]*x[j]\n",
    "            x_new[i] = r/A[i,i]\n",
    "        np.copyto(x,x_new)\n",
    "    return x\n"
   ]
  },
  {
   "cell_type": "code",
   "execution_count": 8,
   "id": "5379436e",
   "metadata": {},
   "outputs": [],
   "source": [
    "def Jacobi2(A, b, num_iter):\n",
    "    x = np.zeros_like(b)\n",
    "    x_new = np.zeros_like(b)\n",
    "    rows, cols = A.shape\n",
    "    for k in range(num_iter):\n",
    "        for i in range(rows):\n",
    "            x_new[i] = (b[i] - A[i,:]@x)/A[i,i]+x[i]\n",
    "        np.copyto(x,x_new)\n",
    "    return x"
   ]
  },
  {
   "cell_type": "code",
   "execution_count": 9,
   "id": "6fb229e1",
   "metadata": {},
   "outputs": [],
   "source": [
    "def Jacobi3(A, b, num_iter):\n",
    "    x = np.zeros_like(b)\n",
    "    x_new = np.zeros_like(b)\n",
    "    rows, cols = A.shape\n",
    "    D = A.diagonal()\n",
    "    res = np.zeros(num_iter)\n",
    "    for k in range(num_iter):\n",
    "        tmp = b-A@x\n",
    "        x_new = tmp/D+x\n",
    "        np.copyto(x,x_new)\n",
    "        res[k] = np.linalg.norm(tmp,2)\n",
    "    return x, res"
   ]
  },
  {
   "cell_type": "code",
   "execution_count": 10,
   "id": "68980d7f",
   "metadata": {},
   "outputs": [],
   "source": [
    "def GS1(A, b, num_iter):\n",
    "    x = np.zeros_like(b)\n",
    "    rows, cols = A.shape\n",
    "    D = A.diagonal()\n",
    "    res = np.zeros(num_iter)\n",
    "    for k in range(num_iter):\n",
    "        for i in range(rows):\n",
    "            tmp = b[i]-A[i,:]@x\n",
    "            x[i] += tmp/D[i]\n",
    "        res[k] = np.linalg.norm(b-A@x,2)\n",
    "    return x, res"
   ]
  },
  {
   "cell_type": "code",
   "execution_count": 34,
   "id": "a14cf2da",
   "metadata": {},
   "outputs": [],
   "source": [
    "from scipy.sparse import tril, triu\n",
    "from scipy.sparse.linalg import spsolve_triangular\n",
    "def GS2(A, b, num_iter):\n",
    "    x = np.zeros_like(b)\n",
    "    rows, cols = A.shape\n",
    "    D = A.diagonal()\n",
    "    U = triu(A,k=1).tocsr()\n",
    "    L = tril(A,k=0).tocsr()\n",
    "    print(type(A), type(U), type(L))\n",
    "    print(A.nnz, U.nnz, L.nnz)\n",
    "    res = np.zeros(num_iter)\n",
    "    for k in range(num_iter):\n",
    "        tmp = b-U@x\n",
    "        x = spsolve_triangular(L,tmp)\n",
    "        res[k] = np.linalg.norm(b-A@x,2)\n",
    "    return x, res"
   ]
  },
  {
   "cell_type": "code",
   "execution_count": 38,
   "id": "672149a0",
   "metadata": {},
   "outputs": [],
   "source": [
    "from scipy.sparse.linalg import inv\n",
    "def GS3(A, b, num_iter):\n",
    "    x = np.zeros_like(b)\n",
    "    rows, cols = A.shape\n",
    "    D = A.diagonal()\n",
    "    U = triu(A,k=1).tocsr()\n",
    "    L = tril(A,k=0).tocsc()\n",
    "    Linv = inv(L)\n",
    "    print(type(A), type(U), type(Linv))\n",
    "    print(A.nnz, U.nnz, Linv.nnz)\n",
    "    res = np.zeros(num_iter)\n",
    "    for k in range(num_iter):\n",
    "        tmp = b-U@x\n",
    "        x = Linv@tmp\n",
    "        res[k] = np.linalg.norm(b-A@x,2)\n",
    "    return x, res"
   ]
  },
  {
   "cell_type": "code",
   "execution_count": 44,
   "id": "6132277b",
   "metadata": {},
   "outputs": [],
   "source": [
    "def OSR(A, b, num_iter, omega=1.5):\n",
    "    x = np.zeros_like(b)\n",
    "    rows, cols = A.shape\n",
    "    D = A.diagonal()\n",
    "    U = triu(A,k=1).tocsr()\n",
    "    L = tril(A,k=0).tocsc()\n",
    "    Linv = inv(L)\n",
    "    print(type(A), type(U), type(Linv))\n",
    "    print(A.nnz, U.nnz, Linv.nnz)\n",
    "    res = np.zeros(num_iter)\n",
    "    for k in range(num_iter):\n",
    "        tmp = b-U@x\n",
    "        xGS = Linv@tmp\n",
    "        x = omega*xGS + (1-omega)*x\n",
    "        res[k] = np.linalg.norm(b-A@x,2)\n",
    "    return x, res"
   ]
  },
  {
   "cell_type": "code",
   "execution_count": 24,
   "id": "5859cb03",
   "metadata": {},
   "outputs": [
    {
     "name": "stdout",
     "output_type": "stream",
     "text": [
      "0.37983036041259766\n"
     ]
    }
   ],
   "source": [
    "import time\n",
    "A, b = formingLinearSystem(n, g)\n",
    "t1 = time.time()\n",
    "x = Jacobi3(A, b, 100)\n",
    "t2 = time.time()\n",
    "print(t2-t1)"
   ]
  },
  {
   "cell_type": "markdown",
   "id": "08c67cf3",
   "metadata": {},
   "source": [
    "## Now we are switching to sparse matrices for more speed up\n",
    "\n",
    "Sparse matrices are implemented in scipy under different formats. \n",
    "Two useful formats are:\n",
    "* CSR -- Compressed Sparse Row format, good for Matrix Vector multiplication\n",
    "* DOK -- Dictionary of Keys format, good for forming the sparse matrix entry by entry. "
   ]
  },
  {
   "cell_type": "code",
   "execution_count": 18,
   "id": "b32dafb7",
   "metadata": {},
   "outputs": [],
   "source": [
    "import numpy as np\n",
    "from scipy.sparse import dok_matrix\n",
    "S = dok_matrix((5, 5), dtype=np.float32)\n",
    "for i in range(5):\n",
    "    for j in range(5):\n",
    "        S[i, j] = i + j"
   ]
  },
  {
   "cell_type": "code",
   "execution_count": 19,
   "id": "88b2954b",
   "metadata": {},
   "outputs": [],
   "source": [
    "def formingSparseLinearSystem(n, g):\n",
    "    h = 1/n\n",
    "    A = dok_matrix(((n+1)**2,(n+1)**2), dtype = np.float64)\n",
    "    b = np.zeros((n+1)**2)\n",
    "    for i in range(n+1):\n",
    "        for j in range(n+1):\n",
    "            if 0<i<n and 0<j<n:\n",
    "                A[ind(i,j,n),ind(i,j,n)] = 4\n",
    "                A[ind(i,j,n),ind(i-1,j,n)] = -1\n",
    "                A[ind(i,j,n),ind(i+1,j,n)] = -1\n",
    "                A[ind(i,j,n),ind(i,j-1,n)] = -1\n",
    "                A[ind(i,j,n),ind(i,j+1,n)] = -1\n",
    "                b[ind(i,j,n)] = g(j*h,i*h)*h*h\n",
    "            else:\n",
    "                A[ind(i,j,n),ind(i,j,n)] = 1\n",
    "                b[ind(i,j,n)] = 0\n",
    "    A = A.tocsr()\n",
    "    return A, b\n"
   ]
  },
  {
   "cell_type": "code",
   "execution_count": 45,
   "id": "48aca773",
   "metadata": {},
   "outputs": [
    {
     "name": "stdout",
     "output_type": "stream",
     "text": [
      "<class 'scipy.sparse.csr.csr_matrix'>\n",
      "0.16457557678222656\n",
      "<class 'scipy.sparse.csr.csr_matrix'> <class 'scipy.sparse.csr.csr_matrix'> <class 'scipy.sparse.csc.csc_matrix'>\n",
      "12205 4802 1620875\n",
      "9.18831491470337\n"
     ]
    }
   ],
   "source": [
    "As, bs = formingSparseLinearSystem(n, g)\n",
    "print(type(As))\n",
    "import time\n",
    "A, b = formingLinearSystem(n, g)\n",
    "t1 = time.time()\n",
    "x_j, r_j = Jacobi3(As, bs, 5000)\n",
    "t2 = time.time()\n",
    "print(t2-t1)\n",
    "t1 = time.time()\n",
    "x_osr, r_osr = OSR(As, bs, 5000)\n",
    "t2 = time.time()\n",
    "print(t2-t1)"
   ]
  },
  {
   "cell_type": "code",
   "execution_count": 40,
   "id": "402e4e70",
   "metadata": {},
   "outputs": [
    {
     "data": {
      "text/plain": [
       "4.907507542557804e-09"
      ]
     },
     "execution_count": 40,
     "metadata": {},
     "output_type": "execute_result"
    },
    {
     "data": {
      "image/png": "[encoded data removed]",
      "text/plain": [
       "<Figure size 432x288 with 2 Axes>"
      ]
     },
     "metadata": {
      "needs_background": "light"
     },
     "output_type": "display_data"
    }
   ],
   "source": [
    "plt.subplot(1,2,1)\n",
    "plt.imshow(u.reshape(n+1,n+1))\n",
    "plt.subplot(1,2,2)\n",
    "plt.imshow(x.reshape(n+1,n+1))\n",
    "np.linalg.norm(u-x,2)"
   ]
  },
  {
   "cell_type": "markdown",
   "id": "a30822a4",
   "metadata": {},
   "source": [
    "$L_2$ norm is a way to check error:\n",
    "\n",
    "$$\\|\\vec{x}-\\vec{y}\\|_2=\\sqrt{\\sum_{i=0}^n|x_i-y_i|^2}$$\n",
    "\n",
    "One can also check residue to see if the iterative method converges\n",
    "\n",
    "$$r = \\|A\\vec{x}-\\vec{b}\\|_2$$"
   ]
  },
  {
   "cell_type": "code",
   "execution_count": 46,
   "id": "5ae28d54",
   "metadata": {},
   "outputs": [
    {
     "data": {
      "image/png": "[encoded data removed]",
      "text/plain": [
       "<Figure size 432x288 with 1 Axes>"
      ]
     },
     "metadata": {
      "needs_background": "light"
     },
     "output_type": "display_data"
    }
   ],
   "source": [
    "plt.plot(r_j)\n",
    "plt.plot(r_gs)\n",
    "plt.plot(r_osr)\n",
    "plt.yscale(\"log\")"
   ]
  },
  {
   "cell_type": "markdown",
   "id": "14cdc3c3",
   "metadata": {},
   "source": [
    "## Jacobi method\n",
    "\n",
    "$$x^{(k+1)}_i = \\frac{1}{A_{i,i}}\\left(b_i-\\sum_{j\\neq i}A_{i,j}x^{(k)}_j\\right)$$\n",
    "\n",
    "#### In vectorized form\n",
    "$${\\bf x}^{(k+1)} = D^{-1}({\\bf b}-(A-D){\\bf x}^{(k)})$$\n",
    "\n",
    "## Gauss Seidel method\n",
    "\n",
    "$$x^{(k+1)}_i = \\frac{1}{A_{i,i}}\\left(b_i-\\sum_{j<i}A_{i,j}x^{(k+1)}_j-\\sum_{j>i}A_{i,j}x^{(k)}_j\\right)$$\n",
    "\n",
    "#### In vectorized form\n",
    "$${\\bf x}^{(k+1)} = L^{-1}({\\bf b}-U{\\bf x}^{(k)})$$\n",
    "\n",
    "## Over Successive Relaxation \n",
    "\n",
    "$$x^{(k+1)}_i = \\omega\\frac{1}{A_{i,i}}\\left(b_i-\\sum_{j<i}A_{i,j}x^{(k+1)}_j-\\sum_{j>i}A_{i,j}x^{(k)}_j\\right) + (1-\\omega)x^{(k)}_i$$\n",
    "\n",
    "#### In vectorized form\n",
    "$${\\bf x}^{(k+1)} = \\omega L^{-1}({\\bf b}-U{\\bf x}^{(k)}) + (1-\\omega){\\bf x}^{(k)}=\\omega{\\bf x}^{(k+1)}_{GS}+(1-\\omega){\\bf x}^{(k)}$$"
   ]
  },
  {
   "cell_type": "code",
   "execution_count": null,
   "id": "f512deee",
   "metadata": {},
   "outputs": [],
   "source": []
  }
 ],
 "metadata": {
  "kernelspec": {
   "display_name": "Python 3 (ipykernel)",
   "language": "python",
   "name": "python3"
  },
  "language_info": {
   "codemirror_mode": {
    "name": "ipython",
    "version": 3
   },
   "file_extension": ".py",
   "mimetype": "text/x-python",
   "name": "python",
   "nbconvert_exporter": "python",
   "pygments_lexer": "ipython3",
   "version": "3.9.12"
  }
 },
 "nbformat": 4,
 "nbformat_minor": 5
}
