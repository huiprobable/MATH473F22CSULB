{
 "cells": [
  {
   "cell_type": "markdown",
   "id": "3629448f-5016-40f4-8c8d-55575062f3aa",
   "metadata": {},
   "source": [
    "# Markdown language\n",
    "\n",
    "* plain and easy, like writing a document. \n",
    "* uses html syntax, like writing a webpage. But many times, have shortcuts and no need to use html syntax. \n",
    "* uses latex for math formulas and equations. \n",
    "* [Markdown cheatsheet](https://www.markdownguide.org/cheat-sheet/)\n",
    "* Here's [another Markdown cheatsheet](https://github.com/adam-p/markdown-here/wiki/Markdown-Cheatsheet)\n"
   ]
  },
  {
   "cell_type": "code",
   "execution_count": null,
   "id": "e34d9b32-0165-4e32-ae6f-0a51b22709ae",
   "metadata": {},
   "outputs": [],
   "source": []
  }
 ],
 "metadata": {
  "kernelspec": {
   "display_name": "Python 3 (ipykernel)",
   "language": "python",
   "name": "python3"
  },
  "language_info": {
   "codemirror_mode": {
    "name": "ipython",
    "version": 3
   },
   "file_extension": ".py",
   "mimetype": "text/x-python",
   "name": "python",
   "nbconvert_exporter": "python",
   "pygments_lexer": "ipython3",
   "version": "3.7.2"
  }
 },
 "nbformat": 4,
 "nbformat_minor": 5
}
