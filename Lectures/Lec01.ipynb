{
 "cells": [
  {
   "cell_type": "markdown",
   "id": "b0948ed2-da69-4563-abf4-fc3ec743715e",
   "metadata": {},
   "source": [
    "# Lecture Note 1. \n"
   ]
  },
  {
   "cell_type": "markdown",
   "id": "a4eba8ed-8222-4ecb-8282-078383fabb52",
   "metadata": {},
   "source": [
    "## Scalars:\n",
    "* integer\n",
    "* float \n",
    "* complex number\n",
    "* boolean\n",
    "* string\n",
    "* bytes"
   ]
  },
  {
   "cell_type": "code",
   "execution_count": 3,
   "id": "eb8cf1e6-b92c-4ed7-8b88-4d58c8085bdf",
   "metadata": {},
   "outputs": [],
   "source": [
    "i = 42\n",
    "g = 3.14\n",
    "b = True\n",
    "s = \"Hello!\"\n",
    "q = b'Hello'"
   ]
  },
  {
   "cell_type": "markdown",
   "id": "95fec429-beb8-448b-bdb1-ae09664e0915",
   "metadata": {},
   "source": [
    "## Collections\n",
    "* list\n",
    "* set\n",
    "* dictionary"
   ]
  },
  {
   "cell_type": "code",
   "execution_count": 29,
   "id": "c98db6c8-83de-4d59-a170-05b7ae1b0d71",
   "metadata": {},
   "outputs": [
    {
     "name": "stdout",
     "output_type": "stream",
     "text": [
      "[1, True, 3]\n",
      "('apple', 'banana', 'cherry', 'apple')\n",
      "{'apple', 'banana', 'cherry'}\n"
     ]
    }
   ],
   "source": [
    "l = [1, 2, 3]       # list\n",
    "l[1]                # lists are indexed by int\n",
    "l[1] = True         # list elements can be of any type\n",
    "d = {\"Jane\": 123, \"Richar\": 456}      # dictionary\n",
    "d[\"Jane\"]\n",
    "t = (\"apple\",\"banana\",\"cherry\",\"apple\")\n",
    "s = set((\"apple\",\"banana\",\"cherry\",\"apple\"))\n",
    "print(l)\n",
    "print(t)\n",
    "print(s)"
   ]
  },
  {
   "cell_type": "markdown",
   "id": "3b46fb70-6006-48b7-a2e8-5b8f3221b045",
   "metadata": {},
   "source": [
    "## Control Structures\n",
    "* if statement\n",
    "* while loops\n",
    "* for loops\n",
    "* range() function\n",
    "* enuerate() function"
   ]
  },
  {
   "cell_type": "code",
   "execution_count": 12,
   "id": "0ce09413-e16a-494b-bc9c-4dabe192677f",
   "metadata": {},
   "outputs": [
    {
     "name": "stdout",
     "output_type": "stream",
     "text": [
      "2\n",
      "0\n"
     ]
    }
   ],
   "source": [
    "x = 2\n",
    "print(x)\n",
    "if x%3 == 1:\n",
    "    x = 2*x+1\n",
    "    print(x)\n",
    "elif x%3 ==2:\n",
    "    x = x-2\n",
    "    print(x)\n",
    "else:\n",
    "    print(x)"
   ]
  },
  {
   "cell_type": "code",
   "execution_count": 14,
   "id": "e499113a-2368-421e-9b75-9e47df5818cd",
   "metadata": {},
   "outputs": [
    {
     "name": "stdout",
     "output_type": "stream",
     "text": [
      "2\n",
      "12\n",
      "182\n"
     ]
    }
   ],
   "source": [
    "while x<42:\n",
    "    x = (x+2)*(x+1)\n",
    "    print(x)"
   ]
  },
  {
   "cell_type": "code",
   "execution_count": 18,
   "id": "95143b02-0106-4fb0-b297-0a43ca1fa3c7",
   "metadata": {},
   "outputs": [
    {
     "name": "stdout",
     "output_type": "stream",
     "text": [
      "apple\n",
      "banana\n",
      "cherry\n",
      "apple\n"
     ]
    }
   ],
   "source": [
    "for x in range(len(t)):\n",
    "    print(t[x])"
   ]
  },
  {
   "cell_type": "code",
   "execution_count": 20,
   "id": "5d658600-497a-4360-9620-ceebef2ee1bf",
   "metadata": {},
   "outputs": [
    {
     "name": "stdout",
     "output_type": "stream",
     "text": [
      "0 apple\n",
      "1 banana\n",
      "2 cherry\n"
     ]
    }
   ],
   "source": [
    "for i, x in enumerate(s):\n",
    "    print(i, x)"
   ]
  },
  {
   "cell_type": "code",
   "execution_count": 28,
   "id": "9186db5d-3ac8-4dc6-b519-ea1910240f41",
   "metadata": {},
   "outputs": [
    {
     "name": "stdout",
     "output_type": "stream",
     "text": [
      "Jane 123\n",
      "Richar 456\n"
     ]
    }
   ],
   "source": [
    "for k, v in d.items():\n",
    "    print(k, v)"
   ]
  },
  {
   "cell_type": "markdown",
   "id": "51682116-30a6-4b89-8176-adabd91474eb",
   "metadata": {},
   "source": [
    "## Some magic \n",
    "\n",
    "%% a cell starts here `sdfsdf`\n",
    "\n",
    "<p style=\"color:rgb(256, 128, 100)\">dfgdg<br>\n",
    "    dfgdg\\n</p>\n",
    "%% ends here\n",
    "\n",
    "<mark style=\"color=rgb(256, 128, 100)\">% dfgerg<br>\n",
    "dfgg<br>\n",
    "% ergdg<br>\n",
    "    </mark>\n",
    "    \n",
    "<div class=\"alert alert-block alert-info\">\n",
    "<b>Tip:</b> Use blue boxes (alert-info) for tips and notes. \n",
    "If it’s a note, you don’t have to include the word “Note”.\n",
    "</div>\n",
    "\n",
    "<div class=\"alert alert-block alert-warning\">\n",
    "<b>Example:</b> Use yellow boxes for examples that are not \n",
    "inside code cells, or use for mathematical formulas if needed.\n",
    "</div>\n",
    "\n",
    "<div class=\"alert alert-block alert-success\">\n",
    "<b>Up to you:</b> Use green boxes sparingly, and only for some specific \n",
    "purpose that the other boxes can't cover. For example, if you have a lot \n",
    "of related content to link to, maybe you decide to use green boxes for \n",
    "related links from each section of a notebook.\n",
    "</div>\n",
    "\n",
    "<div class=\"alert alert-block alert-danger\">\n",
    "<b>Just don't:</b> In general, avoid the red boxes. These should only be\n",
    "used for actions that might cause data loss or another major issue.\n",
    "</div>\n",
    "    "
   ]
  },
  {
   "cell_type": "code",
   "execution_count": 41,
   "id": "6707b140-8ad3-4155-a004-c01275ad12c6",
   "metadata": {},
   "outputs": [
    {
     "name": "stdout",
     "output_type": "stream",
     "text": [
      "2.426866054534912 seconds\n",
      "%s seconds 12\n"
     ]
    }
   ],
   "source": [
    "import time\n",
    "import math\n",
    "import numpy as np\n",
    "from numpy import linalg as la\n",
    "startT = time.time()\n",
    "L = [-1, 0, 1, 2, 0, 3]\n",
    "math.sqrt(sum([i*i for i in L]))\n",
    "L2 = np.array(L)\n",
    "math.sqrt(sum([i*i for i in L2]))\n",
    "L2/la.norm(L2, 2)\n",
    "timeit.Timer('for i in range(10): oct(i)', 'gc.enable()').timeit()\n",
    "endT = time.time()\n",
    "print(\"%s seconds\"%(endT-startT))\n",
    "print(\"%s seconds\",(12))"
   ]
  },
  {
   "cell_type": "raw",
   "id": "3c8a53de-c46d-4ef4-b55a-c740b910bf18",
   "metadata": {},
   "source": []
  },
  {
   "cell_type": "raw",
   "id": "34435fb9-83fb-4164-bdd5-21ac8d790a64",
   "metadata": {},
   "source": []
  }
 ],
 "metadata": {
  "kernelspec": {
   "display_name": "Python 3 (ipykernel)",
   "language": "python",
   "name": "python3"
  },
  "language_info": {
   "codemirror_mode": {
    "name": "ipython",
    "version": 3
   },
   "file_extension": ".py",
   "mimetype": "text/x-python",
   "name": "python",
   "nbconvert_exporter": "python",
   "pygments_lexer": "ipython3",
   "version": "3.7.2"
  }
 },
 "nbformat": 4,
 "nbformat_minor": 5
}
