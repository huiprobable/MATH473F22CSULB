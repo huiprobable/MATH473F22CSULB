{
 "cells": [
  {
   "cell_type": "markdown",
   "id": "f1124396-0793-4f23-ab27-1e541f66aaf5",
   "metadata": {},
   "source": [
    "# Image Filtering using FFT"
   ]
  },
  {
   "cell_type": "markdown",
   "id": "29de68f7-697a-4a3d-bcc1-0feed80bd928",
   "metadata": {},
   "source": [
    "## Steps:\n",
    "\n",
    "1. Pad the image with zeros\n",
    "2. Center the transform\n",
    "3. Compute DFT of the image $F(u,v)$\n",
    "4. Multiply with the filter function $H(u,v)$\n",
    "5. Shift back in the frequency domain\n",
    "6. Extract the image from the padded image"
   ]
  },
  {
   "cell_type": "markdown",
   "id": "6be0f42d-e106-461f-a170-8eee2b0def14",
   "metadata": {},
   "source": [
    "* Low pass filter\n",
    "* High pass filter"
   ]
  },
  {
   "cell_type": "markdown",
   "id": "40f03b4f-525b-4556-817f-5e5a45a495fc",
   "metadata": {},
   "source": [
    "Some commonly used filters:\n",
    "\n",
    "* Ideal filter\n",
    "* Butterworth filter\n",
    "* Gaussian filter"
   ]
  },
  {
   "cell_type": "code",
   "execution_count": null,
   "id": "97c5ef7d-22c3-458d-9e95-8ca489e2b0ea",
   "metadata": {},
   "outputs": [],
   "source": []
  }
 ],
 "metadata": {
  "kernelspec": {
   "display_name": "Python 3 (ipykernel)",
   "language": "python",
   "name": "python3"
  },
  "language_info": {
   "codemirror_mode": {
    "name": "ipython",
    "version": 3
   },
   "file_extension": ".py",
   "mimetype": "text/x-python",
   "name": "python",
   "nbconvert_exporter": "python",
   "pygments_lexer": "ipython3",
   "version": "3.9.6"
  }
 },
 "nbformat": 4,
 "nbformat_minor": 5
}
