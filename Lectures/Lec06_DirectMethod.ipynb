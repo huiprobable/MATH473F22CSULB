{
 "cells": [
  {
   "cell_type": "code",
   "execution_count": 33,
   "id": "8e1c374f",
   "metadata": {},
   "outputs": [],
   "source": [
    "import numpy as np\n",
    "def GaussianElim(a,b):\n",
    "    A = a.astype('float64')\n",
    "    B = b.astype('float64')\n",
    "    x = np.zeros_like(B)\n",
    "    print(A)\n",
    "    m, n = A.shape\n",
    "    assert m==n==len(b)\n",
    "    for k in range(n-1):\n",
    "        for j in range(k+1,n):\n",
    "            A[j,k+1:n] -= A[j,k]/A[k,k]*A[k,k+1:n]\n",
    "            B[j] -= A[j,k]/A[k,k]*B[k]\n",
    "    \n",
    "    # Backward substitution\n",
    "    for k in range(n-1,-1,-1):\n",
    "        x[k] = (B[k]-A[k,k+1:n]@x[k+1:n])/A[k,k]\n",
    "    \n",
    "    return x"
   ]
  },
  {
   "cell_type": "code",
   "execution_count": 34,
   "id": "e481ecea",
   "metadata": {},
   "outputs": [],
   "source": [
    "A = np.array([[1,2,3],[1,3,1],[2,2,4]])\n",
    "b = np.array([1,1,1])"
   ]
  },
  {
   "cell_type": "code",
   "execution_count": 35,
   "id": "41c4d98d",
   "metadata": {},
   "outputs": [
    {
     "name": "stdout",
     "output_type": "stream",
     "text": [
      "[[1. 2. 3.]\n",
      " [1. 3. 1.]\n",
      " [2. 2. 4.]]\n"
     ]
    }
   ],
   "source": [
    "x = GaussianElim(A,b)"
   ]
  },
  {
   "cell_type": "code",
   "execution_count": 36,
   "id": "a3060161",
   "metadata": {},
   "outputs": [
    {
     "data": {
      "text/plain": [
       "array([-0.16666667,  0.33333333,  0.16666667])"
      ]
     },
     "execution_count": 36,
     "metadata": {},
     "output_type": "execute_result"
    }
   ],
   "source": [
    "x"
   ]
  },
  {
   "cell_type": "code",
   "execution_count": null,
   "id": "47250483",
   "metadata": {},
   "outputs": [],
   "source": []
  }
 ],
 "metadata": {
  "kernelspec": {
   "display_name": "Python 3 (ipykernel)",
   "language": "python",
   "name": "python3"
  },
  "language_info": {
   "codemirror_mode": {
    "name": "ipython",
    "version": 3
   },
   "file_extension": ".py",
   "mimetype": "text/x-python",
   "name": "python",
   "nbconvert_exporter": "python",
   "pygments_lexer": "ipython3",
   "version": "3.9.12"
  }
 },
 "nbformat": 4,
 "nbformat_minor": 5
}
