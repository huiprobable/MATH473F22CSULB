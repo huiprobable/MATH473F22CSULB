{
 "cells": [
  {
   "cell_type": "code",
   "execution_count": 16,
   "id": "8e1c374f",
   "metadata": {},
   "outputs": [],
   "source": [
    "import numpy as np\n",
    "def GaussianElim(a,b):\n",
    "    A = a.astype('float64')\n",
    "    B = b.astype('float64')\n",
    "    x = np.zeros_like(B)\n",
    "    m, n = A.shape\n",
    "    assert m==n==len(b)\n",
    "    for k in range(n-1):\n",
    "        for j in range(k+1,n):\n",
    "            alpha = A[j,k]/A[k,k]\n",
    "            A[j,k:n] -= alpha*A[k,k:n]\n",
    "            B[j] -= alpha*B[k]\n",
    "            print(A,B)\n",
    "    \n",
    "    # Backward substitution\n",
    "    for k in range(n-1,-1,-1):\n",
    "        x[k] = (B[k]-A[k,k+1:n]@x[k+1:n])/A[k,k]\n",
    "    \n",
    "    return x"
   ]
  },
  {
   "cell_type": "code",
   "execution_count": 17,
   "id": "e481ecea",
   "metadata": {},
   "outputs": [],
   "source": [
    "A = np.array([[1,2,3],[1,3,1],[2,2,4]])\n",
    "b = np.array([1,1,1])"
   ]
  },
  {
   "cell_type": "code",
   "execution_count": 19,
   "id": "41c4d98d",
   "metadata": {},
   "outputs": [
    {
     "name": "stdout",
     "output_type": "stream",
     "text": [
      "[[ 1.  2.  3.]\n",
      " [ 0.  1. -2.]\n",
      " [ 2.  2.  4.]] [1. 0. 1.]\n",
      "[[ 1.  2.  3.]\n",
      " [ 0.  1. -2.]\n",
      " [ 0. -2. -2.]] [ 1.  0. -1.]\n",
      "[[ 1.  2.  3.]\n",
      " [ 0.  1. -2.]\n",
      " [ 0.  0. -6.]] [ 1.  0. -1.]\n"
     ]
    }
   ],
   "source": [
    "x = GaussianElim(A,b)"
   ]
  },
  {
   "cell_type": "code",
   "execution_count": 20,
   "id": "a3060161",
   "metadata": {},
   "outputs": [
    {
     "data": {
      "text/plain": [
       "array([-0.16666667,  0.33333333,  0.16666667])"
      ]
     },
     "execution_count": 20,
     "metadata": {},
     "output_type": "execute_result"
    }
   ],
   "source": [
    "x"
   ]
  },
  {
   "cell_type": "code",
   "execution_count": 21,
   "id": "47250483",
   "metadata": {},
   "outputs": [],
   "source": [
    "A = np.array([[1,2,3],[1,2,1],[2,2,4]])\n",
    "b = np.array([1,1,1])"
   ]
  },
  {
   "cell_type": "code",
   "execution_count": 22,
   "id": "87623164",
   "metadata": {},
   "outputs": [
    {
     "name": "stdout",
     "output_type": "stream",
     "text": [
      "[[ 1.  2.  3.]\n",
      " [ 0.  0. -2.]\n",
      " [ 2.  2.  4.]] [1. 0. 1.]\n",
      "[[ 1.  2.  3.]\n",
      " [ 0.  0. -2.]\n",
      " [ 0. -2. -2.]] [ 1.  0. -1.]\n",
      "[[  1.   2.   3.]\n",
      " [  0.   0.  -2.]\n",
      " [  0.  nan -inf]] [ 1.  0. nan]\n"
     ]
    },
    {
     "name": "stderr",
     "output_type": "stream",
     "text": [
      "C:\\Users\\016205356\\AppData\\Local\\Temp\\ipykernel_7832\\1052928441.py:10: RuntimeWarning: divide by zero encountered in double_scalars\n",
      "  alpha = A[j,k]/A[k,k]\n",
      "C:\\Users\\016205356\\AppData\\Local\\Temp\\ipykernel_7832\\1052928441.py:11: RuntimeWarning: invalid value encountered in multiply\n",
      "  A[j,k:n] -= alpha*A[k,k:n]\n",
      "C:\\Users\\016205356\\AppData\\Local\\Temp\\ipykernel_7832\\1052928441.py:12: RuntimeWarning: invalid value encountered in double_scalars\n",
      "  B[j] -= alpha*B[k]\n"
     ]
    }
   ],
   "source": [
    "x = GaussianElim(A,b) # in this case, we need to do pivoting. "
   ]
  },
  {
   "cell_type": "code",
   "execution_count": 33,
   "id": "63c21d0e",
   "metadata": {},
   "outputs": [],
   "source": [
    "def GaussianElim_pivot(a,b, eps=0.00001):\n",
    "    A = a.astype('float64')\n",
    "    B = b.astype('float64')\n",
    "    x = np.zeros_like(B)\n",
    "    m, n = A.shape\n",
    "    assert m==n==len(b)\n",
    "    for k in range(n-1):\n",
    "        if (abs(A[k,k])<eps):\n",
    "            # First, we need to find the index k_sw that has max A[k:n,k]\n",
    "            k_sw = np.argmax(abs(A[k:n,k]))+k\n",
    "            # swap row k with the row k_sw that has max A[k:n,k]\n",
    "            A[[k, k_sw]] = A[[k_sw, k]]\n",
    "            B[[k, k_sw]] = B[[k_sw, k]]\n",
    "        for j in range(k+1,n):\n",
    "            alpha = A[j,k]/A[k,k]\n",
    "            A[j,k:n] -= alpha*A[k,k:n]\n",
    "            B[j] -= alpha*B[k]\n",
    "            print(A,B)\n",
    "    \n",
    "    # Backward substitution\n",
    "    for k in range(n-1,-1,-1):\n",
    "        x[k] = (B[k]-A[k,k+1:n]@x[k+1:n])/A[k,k]\n",
    "    \n",
    "    return x"
   ]
  },
  {
   "cell_type": "code",
   "execution_count": 35,
   "id": "7df6972e",
   "metadata": {},
   "outputs": [
    {
     "name": "stdout",
     "output_type": "stream",
     "text": [
      "[[ 1.  2.  3.]\n",
      " [ 0.  0. -2.]\n",
      " [ 2.  2.  4.]] [1. 0. 1.]\n",
      "[[ 1.  2.  3.]\n",
      " [ 0.  0. -2.]\n",
      " [ 0. -2. -2.]] [ 1.  0. -1.]\n",
      "[[ 1.  2.  3.]\n",
      " [ 0. -2. -2.]\n",
      " [ 0.  0. -2.]] [ 1. -1.  0.]\n"
     ]
    }
   ],
   "source": [
    "x = GaussianElim_pivot(A,b)"
   ]
  },
  {
   "cell_type": "code",
   "execution_count": 36,
   "id": "758b7bfe",
   "metadata": {},
   "outputs": [
    {
     "name": "stdout",
     "output_type": "stream",
     "text": [
      "[ 0.   0.5 -0. ]\n"
     ]
    }
   ],
   "source": [
    "print(x)"
   ]
  },
  {
   "cell_type": "code",
   "execution_count": 37,
   "id": "e2dce4c9",
   "metadata": {},
   "outputs": [
    {
     "data": {
      "text/plain": [
       "array([0., 0., 0.])"
      ]
     },
     "execution_count": 37,
     "metadata": {},
     "output_type": "execute_result"
    }
   ],
   "source": [
    "A@x - b"
   ]
  },
  {
   "cell_type": "code",
   "execution_count": 50,
   "id": "ec4cb7e7",
   "metadata": {},
   "outputs": [],
   "source": [
    "# Another way to implement Gaussian Elimination, get rid of the inner for loop. \n",
    "def GaussianElim_pivot_v2(a,b, eps=0.00001):\n",
    "    A = a.astype('float64')\n",
    "    B = b.astype('float64')\n",
    "    x = np.zeros_like(B)\n",
    "    m, n = A.shape\n",
    "    assert m==n==len(b)\n",
    "    for k in range(n-1):\n",
    "        if (abs(A[k,k])<eps):\n",
    "            # First, we need to find the index k_sw that has max A[k:n,k]\n",
    "            k_sw = np.argmax(abs(A[k:n,k]))+k\n",
    "            # swap row k with the row k_sw that has max A[k:n,k]\n",
    "            A[[k, k_sw]] = A[[k_sw, k]]\n",
    "            B[[k, k_sw]] = B[[k_sw, k]]\n",
    "        alpha = A[k+1:n,k]/A[k,k]\n",
    "        A[k+1:n,k:n] -= np.outer(alpha,A[k,k:n])\n",
    "        B[k+1:n] -= alpha*B[k+1:n]\n",
    "        print(A,B)\n",
    "    \n",
    "    # Backward substitution\n",
    "    for k in range(n-1,-1,-1):\n",
    "        x[k] = (B[k]-A[k,k+1:n]@x[k+1:n])/A[k,k]\n",
    "    \n",
    "    return x"
   ]
  },
  {
   "cell_type": "code",
   "execution_count": 51,
   "id": "de24ae6b",
   "metadata": {},
   "outputs": [
    {
     "name": "stdout",
     "output_type": "stream",
     "text": [
      "[[ 1.  2.  3.]\n",
      " [ 0.  0. -2.]\n",
      " [ 0. -2. -2.]] [ 1.  0. -1.]\n",
      "[[ 1.  2.  3.]\n",
      " [ 0. -2. -2.]\n",
      " [ 0.  0. -2.]] [ 1. -1.  0.]\n"
     ]
    }
   ],
   "source": [
    "x = GaussianElim_pivot_v2(A,b)"
   ]
  },
  {
   "cell_type": "code",
   "execution_count": 52,
   "id": "387ff188",
   "metadata": {},
   "outputs": [
    {
     "data": {
      "text/plain": [
       "array([ 0. ,  0.5, -0. ])"
      ]
     },
     "execution_count": 52,
     "metadata": {},
     "output_type": "execute_result"
    }
   ],
   "source": [
    "x"
   ]
  },
  {
   "cell_type": "code",
   "execution_count": 53,
   "id": "2275c7b0",
   "metadata": {},
   "outputs": [
    {
     "data": {
      "text/plain": [
       "array([0., 0., 0.])"
      ]
     },
     "execution_count": 53,
     "metadata": {},
     "output_type": "execute_result"
    }
   ],
   "source": [
    "A@x-b"
   ]
  },
  {
   "cell_type": "code",
   "execution_count": null,
   "id": "0ab15700",
   "metadata": {},
   "outputs": [],
   "source": []
  }
 ],
 "metadata": {
  "kernelspec": {
   "display_name": "Python 3 (ipykernel)",
   "language": "python",
   "name": "python3"
  },
  "language_info": {
   "codemirror_mode": {
    "name": "ipython",
    "version": 3
   },
   "file_extension": ".py",
   "mimetype": "text/x-python",
   "name": "python",
   "nbconvert_exporter": "python",
   "pygments_lexer": "ipython3",
   "version": "3.9.12"
  }
 },
 "nbformat": 4,
 "nbformat_minor": 5
}
