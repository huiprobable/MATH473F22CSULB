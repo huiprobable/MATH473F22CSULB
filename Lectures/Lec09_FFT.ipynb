{
 "cells": [
  {
   "cell_type": "markdown",
   "id": "d453ae8d-7841-40ab-be98-f47db4800c28",
   "metadata": {},
   "source": [
    "# Discrete Fourier Transform (DFT)"
   ]
  },
  {
   "cell_type": "markdown",
   "id": "e8bd657e-28f7-4217-99eb-b3f2ab8c2442",
   "metadata": {},
   "source": [
    "## Intro on waves\n",
    "\n",
    "<img src=\"https://pythonnumericalmethods.berkeley.edu/_images/24.01.01-period_amplitude.jpg\" width=50%>\n",
    "<img src=\"https://pythonnumericalmethods.berkeley.edu/_images/24.01.02-wavelength_amplitude.jpg\" width=50%>"
   ]
  },
  {
   "cell_type": "markdown",
   "id": "97c8863a-d975-4528-9319-35575143989b",
   "metadata": {},
   "source": [
    "The idea of Fourier transform:\n",
    "\n",
    "The Fourier Transform can be used to decompose any signal into a sum of simple sine and cosine waves that we can easily measure the frequency, amplitude and phase. The Fourier transform can be applied to continuous or discrete waves, in this chapter, we will only talk about the Discrete Fourier Transform (DFT).\n",
    "\n",
    "Using the DFT, we can compose the above signal to a series of sinusoids and each of them will have a different frequency. The following 3D figure shows the idea behind the DFT, that the above signal is actually the results of the sum of 3 different sine waves. The time domain signal, which is the above signal we saw can be transformed into a figure in the frequency domain called DFT amplitude spectrum, where the signal frequencies are showing as vertical bars. The height of the bar after normalization is the amplitude of the signal in the time domain. You can see that the 3 vertical bars are corresponding the 3 frequencies of the sine wave, which are also plotted in the figure.\n",
    "\n",
    "<img src=\"https://pythonnumericalmethods.berkeley.edu/_images/24.02.02-time_frequency.png\">"
   ]
  },
  {
   "cell_type": "markdown",
   "id": "d16fd421-9d9d-4212-a3fa-195b6beeb71e",
   "metadata": {},
   "source": [
    "## DFT"
   ]
  },
  {
   "cell_type": "markdown",
   "id": "d76ec61e-449e-45b1-a30a-1f145be81c52",
   "metadata": {},
   "source": [
    "The DFT can transform a sequence of evenly spaced signal to the information about the frequency of all the sine waves that needed to sum to the time domain signal. It is defined as:\n",
    "$$X_k =\\sum_0^{N-1} x_ne^{-i2\\pi kn/N}=\\sum_0^{N-1} x_n\\left(\\cos({2\\pi kn/N})-i\\sin({2\\pi kn/N})\\right)$$\n",
    "\n",
    "where\n",
    "\n",
    "$N$ = number of samples\n",
    "\n",
    "$n$ = current sample\n",
    "\n",
    "$k$ = current frequency, where $𝑘\\in[0,𝑁−1]$\n",
    "\n",
    "$𝑥_𝑛$ = the function value at sample n\n",
    "\n",
    "$𝑋_𝑘$ = The DFT which include information of both amplitude and phase\n",
    "\n",
    "Let $A_{k,n}=e^{-i2\\pi kn/N}$, then we have \n",
    "$$X_k = \\sum_{n=0}^{N-1}x_nA_{k,n}$$\n",
    "\n",
    "Can be implement using:\n",
    "```python\n",
    "X = A@x\n",
    "```"
   ]
  },
  {
   "cell_type": "code",
   "execution_count": 3,
   "id": "dd80ab95-a6e8-42c5-8a56-477f6d540cf2",
   "metadata": {},
   "outputs": [
    {
     "name": "stdout",
     "output_type": "stream",
     "text": [
      "['Solarize_Light2', '_classic_test_patch', '_mpl-gallery', '_mpl-gallery-nogrid', 'bmh', 'classic', 'dark_background', 'fast', 'fivethirtyeight', 'ggplot', 'grayscale', 'seaborn', 'seaborn-bright', 'seaborn-colorblind', 'seaborn-dark', 'seaborn-dark-palette', 'seaborn-darkgrid', 'seaborn-deep', 'seaborn-muted', 'seaborn-notebook', 'seaborn-paper', 'seaborn-pastel', 'seaborn-poster', 'seaborn-talk', 'seaborn-ticks', 'seaborn-white', 'seaborn-whitegrid', 'tableau-colorblind10']\n"
     ]
    }
   ],
   "source": [
    "import matplotlib.pyplot as plt\n",
    "import numpy as np\n",
    "\n",
    "#plt.style.use('seaborn-poster')\n",
    "print(plt.style.available)\n",
    "%matplotlib inline"
   ]
  },
  {
   "cell_type": "code",
   "execution_count": 8,
   "id": "f93f68da-fc8b-4e26-8bcd-8881d32d0961",
   "metadata": {},
   "outputs": [
    {
     "data": {
      "image/png": "[encoded data removed]",
      "text/plain": [
       "<Figure size 576x432 with 1 Axes>"
      ]
     },
     "metadata": {
      "needs_background": "light"
     },
     "output_type": "display_data"
    }
   ],
   "source": [
    "# sampling rate\n",
    "sr = 256\n",
    "# sampling interval\n",
    "ts = 1.0/sr\n",
    "t = np.arange(0,1,ts)\n",
    "\n",
    "freq = 1.\n",
    "x = 3*np.sin(2*np.pi*freq*t)\n",
    "\n",
    "freq = 4\n",
    "x += np.sin(2*np.pi*freq*t)\n",
    "\n",
    "freq = 7   \n",
    "x += 0.5* np.sin(2*np.pi*freq*t)\n",
    "\n",
    "plt.figure(figsize = (8, 6))\n",
    "plt.plot(t, x, 'r')\n",
    "plt.ylabel('Amplitude')\n",
    "\n",
    "plt.show()\n"
   ]
  },
  {
   "cell_type": "code",
   "execution_count": null,
   "id": "17c1ebeb-1526-48ee-828b-f1633f77a413",
   "metadata": {},
   "outputs": [],
   "source": []
  },
  {
   "cell_type": "code",
   "execution_count": 24,
   "id": "c1b4b96f-1333-4df7-b226-c2de24bd2f67",
   "metadata": {},
   "outputs": [],
   "source": [
    "def DFT(x):\n",
    "    \"\"\"\n",
    "    Function to calculate the \n",
    "    discrete Fourier Transform \n",
    "    of a 1D real-valued signal x\n",
    "    \"\"\"\n",
    "\n",
    "    # How do we implement? \n",
    "    N = len(x)\n",
    "    n = np.array(range(N))\n",
    "    k = np.array(range(N)).reshape([N,1])\n",
    "    A = np.exp(-2j*np.pi*k*n/N)\n",
    "    return A@x"
   ]
  },
  {
   "cell_type": "code",
   "execution_count": 26,
   "id": "0a5d05e6-7983-41cd-9481-20b074959047",
   "metadata": {},
   "outputs": [
    {
     "name": "stderr",
     "output_type": "stream",
     "text": [
      "C:\\Users\\016205356\\AppData\\Local\\Temp\\ipykernel_12664\\1127404890.py:10: MatplotlibDeprecationWarning: Passing the linefmt parameter positionally is deprecated since Matplotlib 3.5; the parameter will become keyword-only two minor releases later.\n",
      "  plt.stem(freq, abs(X), 'b', markerfmt=\" \", basefmt=\"-b\")\n"
     ]
    },
    {
     "data": {
      "image/png": "[encoded data removed]",
      "text/plain": [
       "<Figure size 576x432 with 1 Axes>"
      ]
     },
     "metadata": {
      "needs_background": "light"
     },
     "output_type": "display_data"
    }
   ],
   "source": [
    "X = DFT(x)\n",
    "\n",
    "# calculate the frequency\n",
    "N = len(X)\n",
    "n = np.arange(N)\n",
    "T = N/sr\n",
    "freq = n/T \n",
    "\n",
    "plt.figure(figsize = (8, 6))\n",
    "plt.stem(freq, abs(X), 'b', markerfmt=\" \", basefmt=\"-b\")\n",
    "plt.xlabel('Freq (Hz)')\n",
    "plt.ylabel('DFT Amplitude |X(freq)|')\n",
    "plt.show()"
   ]
  },
  {
   "cell_type": "markdown",
   "id": "ccac318e-851c-40b6-b962-81fd342d7258",
   "metadata": {},
   "source": [
    "We can see from here that the output of the DFT is symmetric at half of the sampling rate (you can try different sampling rate to test). This half of the sampling rate is called Nyquist frequency or the folding frequency, it is named after the electronic engineer Harry Nyquist. He and Claude Shannon have the Nyquist-Shannon sampling theorem, which states that a signal sampled at a rate can be fully reconstructed if it contains only frequency components below half that sampling frequency, thus the highest frequency output from the DFT is half the sampling rate."
   ]
  },
  {
   "cell_type": "code",
   "execution_count": 6,
   "id": "5d3b1833-69eb-4d8f-990c-325d88312051",
   "metadata": {},
   "outputs": [
    {
     "data": {
      "image/png": "[encoded data removed]",
      "text/plain": [
       "<Figure size 1200x600 with 2 Axes>"
      ]
     },
     "metadata": {},
     "output_type": "display_data"
    }
   ],
   "source": [
    "n_oneside = N//2\n",
    "# get the one side frequency\n",
    "f_oneside = freq[:n_oneside]\n",
    "\n",
    "# normalize the amplitude\n",
    "X_oneside =X[:n_oneside]/n_oneside\n",
    "\n",
    "plt.figure(figsize = (12, 6))\n",
    "plt.subplot(121)\n",
    "plt.stem(f_oneside, abs(X_oneside), 'b', \\\n",
    "         markerfmt=\" \", basefmt=\"-b\")\n",
    "plt.xlabel('Freq (Hz)')\n",
    "plt.ylabel('DFT Amplitude |X(freq)|')\n",
    "\n",
    "plt.subplot(122)\n",
    "plt.stem(f_oneside, abs(X_oneside), 'b', \\\n",
    "         markerfmt=\" \", basefmt=\"-b\")\n",
    "plt.xlabel('Freq (Hz)')\n",
    "plt.xlim(0, 10)\n",
    "plt.tight_layout()\n",
    "plt.show()\n"
   ]
  },
  {
   "cell_type": "markdown",
   "id": "5675ee49-23c1-47a1-ac47-61a6d7092f84",
   "metadata": {},
   "source": [
    "We can see by plotting the first half of the DFT results, we can see 3 clear peaks at frequency 1 Hz, 4 Hz, and 7 Hz, with amplitude 3, 1, 0.5 as expected. This is how we can use the DFT to analyze an arbitrary signal by decomposing it to simple sine waves."
   ]
  },
  {
   "cell_type": "markdown",
   "id": "ed985e4a-b211-4ad8-8660-a1d9df422a5d",
   "metadata": {},
   "source": [
    "## The inverse DFT"
   ]
  },
  {
   "cell_type": "markdown",
   "id": "0d535adf-f123-446f-bf3e-91f37693bfa3",
   "metadata": {},
   "source": [
    "Of course, we can do the inverse transform of the DFT easily.\n",
    "$$𝑥_𝑛=\\dfrac{1}{𝑁}\\sum_{𝑘=0}^{𝑁−1}𝑋_k𝑒^{𝑖2\\pi 𝑘𝑛/𝑁}$$\n",
    "\n",
    "We will leave this as an exercise for you to write a function."
   ]
  },
  {
   "cell_type": "code",
   "execution_count": 19,
   "id": "3d136e5e-374e-4f00-a5a4-e5a92f27f271",
   "metadata": {},
   "outputs": [],
   "source": [
    "def IDFT(X):\n",
    "    \"\"\"\n",
    "    Function to calculate the inverse\n",
    "    discrete Fourier Transform \n",
    "    of a 1D complex-valued signal X\n",
    "    \"\"\"\n",
    "\n",
    "    # How do we implement? \n",
    "    \n",
    "    return X"
   ]
  },
  {
   "cell_type": "markdown",
   "id": "fa5754e6-44bb-4b78-857f-a84a7a31a982",
   "metadata": {},
   "source": [
    "## FFT (Fast Fourier Transform)\n",
    "\n",
    "\\begin{align}\n",
    "X_k &= \\sum_{n=0}^{N-1}x_ne^{-i2\\pi kn/N}\\\\\n",
    "&= \\sum_{m=0}^{N/2-1}x_{2m}e^{-i2\\pi k(2m)/N}+ \\sum_{n=0}^{N/2-1}x_{2m+1}e^{-i2\\pi k(2m+1)/N}\\\\\n",
    "&= \\sum_{m=0}^{N/2-1}x_{2m}e^{-i2\\pi km/(N/2)}+ e^{-i2\\pi k/N}\\sum_{n=0}^{N/2-1}x_{2m+1}e^{-i2\\pi km/(N/2)}\\\\\n",
    "\\end{align}\n",
    "Implementation is done recursively. "
   ]
  },
  {
   "cell_type": "code",
   "execution_count": 23,
   "id": "b7448793-48df-414d-a0fe-78843583f259",
   "metadata": {},
   "outputs": [],
   "source": [
    "def FFT(x):\n",
    "    \"\"\"\n",
    "    A recursive implementation of \n",
    "    the 1D Cooley-Tukey FFT, the \n",
    "    input should have a length of \n",
    "    power of 2. \n",
    "    \"\"\"\n",
    "    N = len(x)\n",
    "    \n",
    "    if N == 1:\n",
    "        return x\n",
    "    else:\n",
    "        X_even = FFT(x[::2])\n",
    "        X_odd = FFT(x[1::2])\n",
    "        factor = np.exp(-2j*np.pi*np.arange(N)/ N)\n",
    "        \n",
    "        X = np.concatenate([X_even+factor[:int(N/2)]*X_odd, X_even+factor[int(N/2):]*X_odd])\n",
    "        return X"
   ]
  },
  {
   "cell_type": "code",
   "execution_count": 19,
   "id": "76e33f39-2cae-4695-9d42-15e16a0297e7",
   "metadata": {},
   "outputs": [],
   "source": []
  },
  {
   "cell_type": "code",
   "execution_count": null,
   "id": "5540ec1d-d6af-49c3-81aa-0c452edd58c9",
   "metadata": {},
   "outputs": [],
   "source": []
  },
  {
   "cell_type": "code",
   "execution_count": null,
   "id": "efe32985-442e-4313-a03a-6ccaf9eaf4b5",
   "metadata": {},
   "outputs": [],
   "source": []
  }
 ],
 "metadata": {
  "kernelspec": {
   "display_name": "Python 3 (ipykernel)",
   "language": "python",
   "name": "python3"
  },
  "language_info": {
   "codemirror_mode": {
    "name": "ipython",
    "version": 3
   },
   "file_extension": ".py",
   "mimetype": "text/x-python",
   "name": "python",
   "nbconvert_exporter": "python",
   "pygments_lexer": "ipython3",
   "version": "3.9.12"
  }
 },
 "nbformat": 4,
 "nbformat_minor": 5
}
