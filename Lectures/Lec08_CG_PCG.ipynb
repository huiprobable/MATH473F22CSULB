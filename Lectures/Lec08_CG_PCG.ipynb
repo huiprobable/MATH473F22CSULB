{
 "cells": [
  {
   "cell_type": "markdown",
   "id": "44af02aa-c7c4-4366-b4bf-a741e3141766",
   "metadata": {},
   "source": [
    "# Conjugate Gradient and Preconditioned Conjugate Gradient methods\n"
   ]
  },
  {
   "cell_type": "code",
   "execution_count": null,
   "id": "2e9a19d9-e2ce-4688-af1b-8ac6ce77cffd",
   "metadata": {},
   "outputs": [],
   "source": []
  }
 ],
 "metadata": {
  "kernelspec": {
   "display_name": "Python 3 (ipykernel)",
   "language": "python",
   "name": "python3"
  },
  "language_info": {
   "codemirror_mode": {
    "name": "ipython",
    "version": 3
   },
   "file_extension": ".py",
   "mimetype": "text/x-python",
   "name": "python",
   "nbconvert_exporter": "python",
   "pygments_lexer": "ipython3",
   "version": "3.9.6"
  }
 },
 "nbformat": 4,
 "nbformat_minor": 5
}
